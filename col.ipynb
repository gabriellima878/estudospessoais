{
 "cells": [
  {
   "cell_type": "code",
   "execution_count": 2,
   "metadata": {},
   "outputs": [
    {
     "name": "stdout",
     "output_type": "stream",
     "text": [
      "[1000, 3000, 4000, 200, 50]\n",
      "[750.0, 1000.0]\n"
     ]
    }
   ],
   "source": [
    "lista_precos = [500, 1500, 2000, 100, 25]\n",
    "\n",
    "# Caso 1\n",
    "nova_lista_precos = []\n",
    "for preco in lista_precos:\n",
    "    nova_lista_precos.append(preco * 2)\n",
    "print(nova_lista_precos)\n",
    "\n",
    "# Caso 2\n",
    "imposto = []\n",
    "for preco in lista_precos:\n",
    "    if preco > 1000:\n",
    "        imposto.append(preco *0.5)\n",
    "\n",
    "print(imposto)"
   ]
  },
  {
   "cell_type": "code",
   "execution_count": 4,
   "metadata": {},
   "outputs": [
    {
     "name": "stdout",
     "output_type": "stream",
     "text": [
      "[1000, 3000, 4000, 200, 50]\n",
      "[750.0, 1000.0]\n"
     ]
    }
   ],
   "source": [
    "# Caso 1\n",
    "nova_lista_precos2 = [preco * 2 for preco in lista_precos]\n",
    "print(nova_lista_precos2)\n",
    "\n",
    "#Caso 2 \n",
    "imposto2 = [preco * 0.5 for preco in lista_precos if preco > 1000]\n",
    "print(imposto2)"
   ]
  },
  {
   "cell_type": "code",
   "execution_count": 6,
   "metadata": {},
   "outputs": [
    {
     "name": "stdout",
     "output_type": "stream",
     "text": [
      "[2, 4, 6, 8, 10, 12]\n"
     ]
    }
   ],
   "source": [
    "l1 = [1, 2, 3, 4, 5, 6]\n",
    "l2 = [v * 2 for v in l1]\n",
    "print(l2)"
   ]
  },
  {
   "cell_type": "code",
   "execution_count": 27,
   "metadata": {},
   "outputs": [
    {
     "name": "stdout",
     "output_type": "stream",
     "text": [
      "{'chave0': 0, 'chave1': 1, 'chave2': 4, 'chave3': 9, 'chave4': 16} <class 'dict'>\n"
     ]
    }
   ],
   "source": [
    "d1 = {f'chave{x}': x**2 for x in range(5)}\n",
    "print(d1, type(d1))"
   ]
  },
  {
   "cell_type": "code",
   "execution_count": null,
   "metadata": {},
   "outputs": [],
   "source": []
  }
 ],
 "metadata": {
  "kernelspec": {
   "display_name": "Python 3",
   "language": "python",
   "name": "python3"
  },
  "language_info": {
   "codemirror_mode": {
    "name": "ipython",
    "version": 3
   },
   "file_extension": ".py",
   "mimetype": "text/x-python",
   "name": "python",
   "nbconvert_exporter": "python",
   "pygments_lexer": "ipython3",
   "version": "3.11.5"
  },
  "orig_nbformat": 4
 },
 "nbformat": 4,
 "nbformat_minor": 2
}
